{
 "cells": [
  {
   "cell_type": "markdown",
   "metadata": {},
   "source": [
    "Code to translate constants from radix-8 to radix-26:"
   ]
  },
  {
   "cell_type": "code",
   "execution_count": 23,
   "metadata": {},
   "outputs": [
    {
     "name": "stdout",
     "output_type": "stream",
     "text": [
      "Binary String: 0111111111111111111111111111111111111111111111111111111111111111111111111111111111111111111111111111111111111111111111111111111111111111111111111111111111111111111111111111111111111111111111111111111111111111111111111111111111111111111111111111111111101100\n",
      "Length of the binary string: 256\n",
      "Radix-26 List: ['0x3ffffec', '0x3ffffff', '0x3ffffff', '0x3ffffff', '0x3ffffff', '0x3ffffff', '0x3ffffff', '0x3ffffff', '0x3ffffff', '0x1fffff']\n",
      "Length of the radix-26 list: 10\n",
      "\n",
      "{{0x3ffffec, 0x3ffffff, 0x3ffffff, 0x3ffffff, 0x3ffffff, 0x3ffffff, 0x3ffffff, 0x3ffffff, 0x3ffffff, 0x1fffff}},\n"
     ]
    }
   ],
   "source": [
    "def hex_to_bin(hex_string):\n",
    "  # Remove the unwanted characters and split the string into hex values\n",
    "  hex_values = hex_string.replace('\\n', '').replace(' ', '').split(',')\n",
    "  \n",
    "  # Convert each hex value to binary and concatenate them\n",
    "  binary_string = \"\".join([bin(int(h, 16))[2:].zfill(8) for h in hex_values][::-1])\n",
    "\n",
    "  return binary_string\n",
    "\n",
    "def bin_to_radix26(binary_string):\n",
    "  # Add zeros in the beginning until the length of the string is 260\n",
    "  binary_string = binary_string.zfill(260)\n",
    "\n",
    "  # Split the binary string into chunks of 26 bits\n",
    "  l = len(binary_string)\n",
    "  chunks = [binary_string[l-i-26:l-i] for i in range(0, len(binary_string), 26)]\n",
    "  \n",
    "  # Convert each 26-bit chunk to hexadecimal\n",
    "  radix26_list = [hex(int(chunk, 2)) for chunk in chunks]\n",
    "  \n",
    "  # Check if there is any remaining part of the binary string that is less than 26 bits\n",
    "  remainder = len(binary_string) % 26\n",
    "  if remainder != 0:\n",
    "    print(f\"Warning: {remainder} bits of the binary string are ignored.\")\n",
    "  \n",
    "  return radix26_list\n",
    "\n",
    "# Example usage\n",
    "hex_string = \"\"\"\n",
    "0xec, 0xff, 0xff, 0xff, 0xff, 0xff, 0xff, 0xff, 0xff, 0xff, 0xff, 0xff, 0xff, 0xff, 0xff, 0xff, \n",
    "0xff, 0xff, 0xff, 0xff, 0xff, 0xff, 0xff, 0xff, 0xff, 0xff, 0xff, 0xff, 0xff, 0xff, 0xff, 0x7f\n",
    "\"\"\"\n",
    "\n",
    "binary_string = hex_to_bin(hex_string)\n",
    "print(\"Binary String:\", binary_string)\n",
    "print(\"Length of the binary string:\", len(binary_string))\n",
    "\n",
    "radix26_list = bin_to_radix26(binary_string)\n",
    "print(\"Radix-26 List:\", radix26_list)\n",
    "print(\"Length of the radix-26 list:\", len(radix26_list))\n",
    "\n",
    "print(f\"\\n{{{{{', '.join(radix26_list)}}}}}\")\n"
   ]
  },
  {
   "cell_type": "code",
   "execution_count": 2,
   "metadata": {},
   "outputs": [
    {
     "name": "stdout",
     "output_type": "stream",
     "text": [
      "Binary String: 111111111111111111111111111111111111111111111111111111111111111111111111111111111111111111111111111111111111111111111111111111111111111111111111111111111111111111111111111111111111111111111111111111111111111111111111111111111111111111111111111111111101101\n",
      "Length of the binary string: 255\n",
      "i: 0\n",
      "00000111111111111111111111 -> 00000111111111111111111110\n",
      "26 -> 26\n",
      "i: 1\n",
      "11111111111111111111111111 -> 111111111111111111111111110\n",
      "26 -> 27\n",
      "i: 2\n",
      "11111111111111111111111111 -> 111111111111111111111111110\n",
      "26 -> 27\n",
      "i: 3\n",
      "11111111111111111111111111 -> 111111111111111111111111110\n",
      "26 -> 27\n",
      "i: 4\n",
      "11111111111111111111111111 -> 111111111111111111111111110\n",
      "26 -> 27\n",
      "i: 5\n",
      "11111111111111111111111111 -> 111111111111111111111111110\n",
      "26 -> 27\n",
      "i: 6\n",
      "11111111111111111111111111 -> 111111111111111111111111110\n",
      "26 -> 27\n",
      "i: 7\n",
      "11111111111111111111111111 -> 111111111111111111111111110\n",
      "26 -> 27\n",
      "i: 8\n",
      "11111111111111111111111111 -> 111111111111111111111111110\n",
      "26 -> 27\n",
      "i: 9\n",
      "11111111111111111111101101 -> 111111111111111111111101101\n",
      "26 -> 27\n",
      "Radix-26 List: ['0x1ffffe', '0x7fffffe', '0x7fffffe', '0x7fffffe', '0x7fffffe', '0x7fffffe', '0x7fffffe', '0x7fffffe', '0x7fffffe', '0x7ffffed']\n"
     ]
    }
   ],
   "source": [
    "binary25529 = 2**255 - 19\n",
    "binary_string = bin(binary25529)[2:]\n",
    "print(\"Binary String:\", binary_string)\n",
    "print(\"Length of the binary string:\", len(binary_string))\n",
    "\n",
    "# I want each chunk to take one from the previous chunk and add it as start of the other chunk\n",
    "binary_string = binary_string.zfill(260) \n",
    "\n",
    "chunks = [binary_string[i:i+26] for i in range(0, len(binary_string), 26)]\n",
    "\n",
    "# Adjust the chunks to take one bit from the previous chunk\n",
    "adjusted_chunks = []\n",
    "for i in range(len(chunks)):\n",
    "  current_chunk = chunks[i]\n",
    "  if i > 0:\n",
    "    current_chunk = '1' + current_chunk\n",
    "  if i < len(chunks) - 1:\n",
    "    current_chunk = current_chunk[:-1] + '0'\n",
    "  \n",
    "  print(\"i:\", i)\n",
    "  print(chunks[i], \"->\", current_chunk)\n",
    "  print(len(chunks[i]), \"->\", len(current_chunk))\n",
    "  adjusted_chunks.append(current_chunk)\n",
    "  \n",
    "radix26_list = [hex(int(chunk, 2)) for chunk in adjusted_chunks]\n",
    "\n",
    "print(\"Radix-26 List:\", radix26_list)"
   ]
  }
 ],
 "metadata": {
  "kernelspec": {
   "display_name": "base",
   "language": "python",
   "name": "python3"
  },
  "language_info": {
   "codemirror_mode": {
    "name": "ipython",
    "version": 3
   },
   "file_extension": ".py",
   "mimetype": "text/x-python",
   "name": "python",
   "nbconvert_exporter": "python",
   "pygments_lexer": "ipython3",
   "version": "3.12.7"
  }
 },
 "nbformat": 4,
 "nbformat_minor": 2
}
